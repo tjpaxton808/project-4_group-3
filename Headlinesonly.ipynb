{
 "cells": [
  {
   "cell_type": "code",
   "execution_count": 21,
   "id": "11eef4fe-7320-4e46-bb1c-f4c370c25b70",
   "metadata": {},
   "outputs": [
    {
     "name": "stdout",
     "output_type": "stream",
     "text": [
      "Data Head:\n",
      "                                               title  label\n",
      "0  german greens want last nuclear weapons withdr...      1\n",
      "1  comedy gold on detroit news “willy” dumps his ...      0\n",
      "2  trump will do everything to avoid nuclear war ...      1\n",
      "3  altleft plans to hijack president trump’s az r...      0\n",
      "4  fortyfour venezuelan activists released from p...      1\n",
      "Model training completed.\n",
      "Accuracy on test set: 0.9345637583892618\n",
      "Classification Report:\n",
      "              precision    recall  f1-score   support\n",
      "\n",
      "           0       0.95      0.91      0.93       564\n",
      "           1       0.93      0.95      0.94       628\n",
      "\n",
      "    accuracy                           0.93      1192\n",
      "   macro avg       0.94      0.93      0.93      1192\n",
      "weighted avg       0.93      0.93      0.93      1192\n",
      "\n"
     ]
    }
   ],
   "source": [
    " import pandas as pd  \n",
    " from sklearn.model_selection import train_test_split  \n",
    " from sklearn.feature_extraction.text import TfidfVectorizer  \n",
    " from sklearn.linear_model import LogisticRegression  \n",
    " from sklearn.pipeline import Pipeline  \n",
    " from sklearn.metrics import accuracy_score, classification_report  \n",
    "   \n",
    " # Load the dataset  \n",
    " df = pd.read_csv(\"News_Dataset/cleaned_news_headlines.csv\", encoding=\"utf-8\")  \n",
    "   \n",
    " # Check the first few rows  \n",
    " print(\"Data Head:\")  \n",
    " print(df.head())  \n",
    " \n",
    " # Assuming 'title' is the headline and 'label' is the binary indicator for fake/real  \n",
    " X = df[\"title\"]  \n",
    " y = df[\"label\"]  \n",
    "   \n",
    " # Split the data into training and test sets  \n",
    " X_train, X_test, y_train, y_test = train_test_split(X, y, test_size=0.03, random_state=25)  \n",
    "   \n",
    " # Create a pipeline that vectorizes the text and then applies Logistic Regression  \n",
    " model_pipeline = Pipeline([  \n",
    "     ('tfidf', TfidfVectorizer(stop_words=\"english\")),  \n",
    "     ('logreg', LogisticRegression())  \n",
    " ])  \n",
    "   \n",
    " # Train the model  \n",
    " model_pipeline.fit(X_train, y_train)  \n",
    " print(\"Model training completed.\")  \n",
    "   \n",
    " # Make predictions on the test set  \n",
    " y_pred = model_pipeline.predict(X_test)  \n",
    "   \n",
    " # Evaluate the model  \n",
    " acc = accuracy_score(y_test, y_pred)  \n",
    " print(\"Accuracy on test set: \" + str(acc))  \n",
    " print(\"Classification Report:\")  \n",
    " print(classification_report(y_test, y_pred))  "
   ]
  },
  {
   "cell_type": "code",
   "execution_count": 25,
   "id": "1051784a-a217-40ef-aaa4-f89252de9dad",
   "metadata": {},
   "outputs": [
    {
     "name": "stdout",
     "output_type": "stream",
     "text": [
      "Model saved as news_fake_real_model.pkl\n",
      "Testing model with example headlines:\n",
      "Headline: Breaking: President signs new climate change bill\n",
      "Prediction: Fake (confidence: 0.89)\n",
      "--------------------------------------------------\n",
      "Headline: Aliens confirmed to be living among us, government admits\n",
      "Prediction: Fake (confidence: 0.77)\n",
      "--------------------------------------------------\n",
      "Headline: Stock market reaches record high amid economic recovery\n",
      "Prediction: Real (confidence: 0.85)\n",
      "--------------------------------------------------\n"
     ]
    }
   ],
   "source": [
    "import pickle\n",
    "\n",
    "# Save the trained model pipeline to a file for later use\n",
    "with open('news_fake_real_model.pkl', 'wb') as model_file:\n",
    "    pickle.dump(model_pipeline, model_file)\n",
    "\n",
    "print('Model saved as news_fake_real_model.pkl')\n",
    "\n",
    "# Let's also create a simple function to demonstrate how to use the model for prediction\n",
    "def predict_headline(headline, model):\n",
    "    \"\"\"\n",
    "    Predict if a headline is fake or real news\n",
    "    \n",
    "    Args:\n",
    "        headline (str): The news headline text\n",
    "        model: The trained model pipeline\n",
    "        \n",
    "    Returns:\n",
    "        prediction (int): 0 for fake, 1 for real\n",
    "        probability (float): Probability of the prediction\n",
    "    \"\"\"\n",
    "    # Get prediction (0 for fake, 1 for real)\n",
    "    prediction = model.predict([headline])[0]\n",
    "    \n",
    "    # Get probability\n",
    "    proba = model.predict_proba([headline])[0]\n",
    "    probability = proba[1] if prediction == 1 else proba[0]\n",
    "    \n",
    "    return prediction, probability\n",
    "\n",
    "# Test the function with a few examples\n",
    "test_headlines = [\n",
    "    \"Breaking: President signs new climate change bill\",\n",
    "    \"Aliens confirmed to be living among us, government admits\",\n",
    "    \"Stock market reaches record high amid economic recovery\"\n",
    "]\n",
    "\n",
    "print(\"\\\n",
    "Testing model with example headlines:\")\n",
    "for headline in test_headlines:\n",
    "    pred, prob = predict_headline(headline, model_pipeline)\n",
    "    label = \"Real\" if pred == 1 else \"Fake\"\n",
    "    print(f\"Headline: {headline}\")\n",
    "    print(f\"Prediction: {label} (confidence: {prob:.2f})\")\n",
    "    print(\"-\" * 50)"
   ]
  },
  {
   "cell_type": "code",
   "execution_count": null,
   "id": "37349272-603d-4004-8925-174ae2af99fa",
   "metadata": {},
   "outputs": [],
   "source": []
  }
 ],
 "metadata": {
  "kernelspec": {
   "display_name": "Python 3 (ipykernel)",
   "language": "python",
   "name": "python3"
  },
  "language_info": {
   "codemirror_mode": {
    "name": "ipython",
    "version": 3
   },
   "file_extension": ".py",
   "mimetype": "text/x-python",
   "name": "python",
   "nbconvert_exporter": "python",
   "pygments_lexer": "ipython3",
   "version": "3.12.4"
  }
 },
 "nbformat": 4,
 "nbformat_minor": 5
}
